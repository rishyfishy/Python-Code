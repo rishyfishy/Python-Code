{
 "metadata": {
  "language_info": {
   "codemirror_mode": {
    "name": "ipython",
    "version": 3
   },
   "file_extension": ".py",
   "mimetype": "text/x-python",
   "name": "python",
   "nbconvert_exporter": "python",
   "pygments_lexer": "ipython3",
   "version": "3.8.3-final"
  },
  "orig_nbformat": 2,
  "kernelspec": {
   "name": "python3",
   "display_name": "Python 3",
   "language": "python"
  }
 },
 "nbformat": 4,
 "nbformat_minor": 2,
 "cells": [
  {
   "cell_type": "code",
   "execution_count": 25,
   "metadata": {},
   "outputs": [],
   "source": [
    "import datetime\n",
    "import csv\n",
    "\n",
    "\n",
    "newString = '''\n",
    "         0    1.0000    0.5000   12.0000   10.8250  129.9000   10.0000\n",
    "\n",
    "    0.5000    1.0000    0.7500   10.8250    6.4523   69.8466    0.3333\n",
    "\n",
    "    0.7500    1.0000    0.8750    6.4523    1.5576   10.0501    0.1429\n",
    "\n",
    "    0.8750    1.0000    0.9375    1.5576   -1.9638   -3.0588    0.0667\n",
    "\n",
    "    0.8750    0.9375    0.9063    1.5576   -0.0988   -0.1539    0.0345\n",
    "\n",
    "    '''\n",
    "singleSplit = newString.split(\"\\n\")\n",
    "doubleSplit=[x.split(\" \") for x in singleSplit]\n",
    "filtered=[]\n",
    "for line in doubleSplit:\n",
    "    filtered.append([x for x in line if x])\n",
    "filtered\n",
    "doubleFiltered = [x for x in filtered if x]\n",
    "\n",
    "now = datetime.datetime.now()\n",
    "\n",
    "# dd/mm/YYYY H:M\n",
    "dt_string = now.strftime(\"%d-%m-%Y_%H-%M\")\n",
    "dt_string+=\".csv\"\n",
    "\n",
    "with open(dt_string, \"w\", newline=\"\") as f:\n",
    "    writer = csv.writer(f)\n",
    "    writer.writerows(doubleFiltered)\n",
    "    "
   ]
  },
  {
   "cell_type": "code",
   "execution_count": 23,
   "metadata": {},
   "outputs": [
    {
     "output_type": "execute_result",
     "data": {
      "text/plain": [
       "'30-01-2021 09:34.csv'"
      ]
     },
     "metadata": {},
     "execution_count": 23
    }
   ],
   "source": [
    "dt_string"
   ]
  },
  {
   "cell_type": "code",
   "execution_count": null,
   "metadata": {},
   "outputs": [],
   "source": []
  }
 ]
}