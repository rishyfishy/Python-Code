{
 "metadata": {
  "language_info": {
   "codemirror_mode": {
    "name": "ipython",
    "version": 3
   },
   "file_extension": ".py",
   "mimetype": "text/x-python",
   "name": "python",
   "nbconvert_exporter": "python",
   "pygments_lexer": "ipython3",
   "version": "3.8.3-final"
  },
  "orig_nbformat": 2,
  "kernelspec": {
   "name": "python3",
   "display_name": "Python 3",
   "language": "python"
  }
 },
 "nbformat": 4,
 "nbformat_minor": 2,
 "cells": [
  {
   "cell_type": "code",
   "execution_count": 2,
   "metadata": {},
   "outputs": [],
   "source": [
    "def naiveGaussJordan(matrix:list,vector:list):\n",
    "    n=len(matrix)\n",
    "    for k in range(1,n):\n",
    "        for i in range(k+1,n+1):\n",
    "            factor = matrix[i,k]/matrix[k,k]\n",
    "            for j in range(k+1,n+1):\n",
    "                matrix[i,j]-= factor*a[k,j]\n",
    "            b[i]-= factor*b[k]\n",
    "    \n",
    "\n"
   ]
  },
  {
   "cell_type": "code",
   "execution_count": null,
   "metadata": {},
   "outputs": [],
   "source": []
  }
 ]
}