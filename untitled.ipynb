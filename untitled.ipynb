{
 "metadata": {
  "language_info": {
   "codemirror_mode": {
    "name": "ipython",
    "version": 3
   },
   "file_extension": ".py",
   "mimetype": "text/x-python",
   "name": "python",
   "nbconvert_exporter": "python",
   "pygments_lexer": "ipython3",
   "version": "3.8.3-final"
  },
  "orig_nbformat": 2,
  "kernelspec": {
   "name": "python3",
   "display_name": "Python 3",
   "language": "python"
  }
 },
 "nbformat": 4,
 "nbformat_minor": 2,
 "cells": [
  {
   "cell_type": "code",
   "execution_count": 14,
   "metadata": {},
   "outputs": [],
   "source": [
    "whitelist = set('abcdefghijklmnopqrstuvwxyz ABCDEFGHIJKLMNOPQRSTUVWXYZ/.,1234567890\\t\\n')\n",
    "myStr = '''\n",
    "Rishabh Garikiparithi\n",
    "rishabh.garikiparithi@mail.utoronto.ca\n",
    "linkedin.com/in/rishabh-g/\n",
    "rishabhgarikiparithi.wix.com/portfolio\n",
    "github.com/rishyfishy\n",
    "\n",
    "Experience\n",
    "\n",
    "Hyperloop Braking Subsystem              October 2019 to January 2020\n",
    "Lead Mechanical Designer\n",
    " - Developed pneumatic braking system from scratch for SpaceX Competition.\n",
    " - Taught all new members how to use SolidWorks at the CSWA Level.\n",
    " - Designed components for energy and structures subsystems.\n",
    "\n",
    "Human Powered Vehicle Design Team        April 2020 to January 2020 \n",
    "Sponsorship Director \n",
    " - Expanded the team’s sponsor network to acquire valuable resources.\n",
    " - Helped get over $10,000 in sponsorships for the team.\n",
    " - Spearheaded 4 workshops on advanced tools in SolidWorks and \t\t\t     workflow optimization tips to improve CAD speed by over 300%\n",
    "\n",
    "Microcellular Plastics Manufacturing Lab       May 2020 to August 2020\n",
    "Research Assistant\n",
    " - Created PVDF samples using compression molding and batch foaming.\n",
    " - Analyzed material samples using DSC and other technologies. \n",
    " - Wrote a 10,000-word paper on BN nanocomposites with 160 references.\n",
    "\n",
    "Human Powered Vehicle Design Team           September 2019 to April 2020\n",
    "Lead Structural Designer\n",
    " - Designed vehicle frame for ASME Challenge and world speed record.\n",
    " - Used advanced surface modeling and FEA to double the safety factor.\n",
    " - Got hands-on experience with machining and carbon fiber layups. \n",
    "\n",
    "\n",
    "Projects\n",
    "Traffic Sign Recognition \n",
    "Designed a convolutional neural network using Pytorch to recognize German traffic signs in a variety of lighting conditions. Optimized model hyperparameters, achieving a test accuracy of 97% \n",
    "\n",
    "CPU Transient Thermal Simulation\n",
    "Simulated heat transfer through CPU IHS with and without an external heat-sink in SolidWorks. Compared results to show the importance of good thermal management. \n",
    "\n",
    "CNC Machine\n",
    "Designed a CNC mill from scratch using Solidworks.\tReduced costs by 40% through design iteration and conducting part selection, considering manufacturability and cost effectiveness. Link to report\n",
    "\n",
    "Injection Moldable Drawer Guides\n",
    "Modeled and 3D printed replacement drawer hardware, optimized with topology optimization, reducing weight by about 50%. Now my mom’s drawers are fixed. As a design study, I modified the part for injection molding and made molds.\n",
    "\n",
    "CAD Skills\n",
    " SolidWorks (CSWP Certified) \n",
    " - FEA Static and Thermal Simulations\n",
    " - Mold Design\n",
    " - Advanced Surface Modeling\n",
    " AutoCAD, Autodesk Inventor \n",
    " NX (Core Designer)\n",
    " ANSYS Workbench\n",
    "\n",
    "Other Skills\n",
    " Oral Communication and Presentation\n",
    " Technical and Non-technical Writing\n",
    " Quick and Enthusiastic Learner\n",
    " Passion for Innovative Technology\n",
    "\n",
    "\n",
    "'''\n",
    "answer = ''.join(filter(whitelist.__contains__, myStr))"
   ]
  },
  {
   "cell_type": "code",
   "execution_count": 15,
   "metadata": {},
   "outputs": [
    {
     "output_type": "stream",
     "name": "stdout",
     "text": [
      "\nRishabh Garikiparithi\nrishabh.garikiparithimail.utoronto.ca\nlinkedin.com/in/rishabhg/\nrishabhgarikiparithi.wix.com/portfolio\ngithub.com/rishyfishy\n\nExperience\n\nHyperloop Braking Subsystem              October 2019 to January 2020\nLead Mechanical Designer\nDeveloped pneumatic braking system from scratch for SpaceX Competition.\nTaught all new members how to use SolidWorks at the CSWA Level.\n Designed components for energy and structures subsystems.\n\nHuman Powered Vehicle Design Team        April 2020 to January 2020 \nSponsorship Director \nExpanded the teams sponsor network to acquire valuable resources.\nHelped get over 10,000 in sponsorships for the team.\nSpearheaded 4 workshops on advanced tools in SolidWorks and \t\t\tworkflow optimization tips to improve CAD speed by over 300\n\nMicrocellular Plastics Manufacturing Lab       May 2020 to August 2020\nResearch Assistant\nCreated PVDF samples using compression molding and batch foaming.\nAnalyzed material samples using DSC and other technologies. \nWrote a 10,000word paper on BN nanocomposites with 160 references.\n\nHuman Powered Vehicle Design Team          September 2019 to April 2020\nLead Structural Designer\nDesigned vehicle frame for ASME Challenge and world speed record.\nUsed advanced surface modeling and FEA to double the safety factor.\nGot handson experience with machining and carbon fiber layups. \n\n\nProjects\nTraffic Sign Recognition \nDesigned a convolutional neural network using Pytorch to recognize German traffic signs in a variety of lighting conditions. Optimized model hyperparameters, achieving a test accuracy of 97 \n\nCPU Transient Thermal Simulation\nSimulated heat transfer through CPU IHS with and without an external heatsink in SolidWorks. Compared results to show the importance of good thermal management. \n\nCNC Machine\nDesigned a CNC mill from scratch using Solidworks.\tReduced costs by 40 through design iteration and conducting part selection, considering manufacturability and cost effectiveness. Link to report\n\nInjection Moldable Drawer Guides\nModeled and 3D printed replacement drawer hardware, optimized with topology optimization, reducing weight by about 50. Now my moms drawers are fixed. As a design study, I modified the part for injection molding and made molds.\n\nCAD Skills\nSolidWorks CSWP Certified \n FEA Static and Thermal Simulations\n Mold Design\n Advanced Surface Modeling\nAutoCAD,Autodesk Inventor \nNX Core Designer\nANSYS Workbench\n\nOther Skills\nOral Communication and Presentation\nTechnical and Nontechnical Writing\nQuick and Enthusiastic Learner\nPassion for Innovative Technology\n\n\n\n"
     ]
    }
   ],
   "source": [
    "print (answer)\n"
   ]
  },
  {
   "cell_type": "code",
   "execution_count": 17,
   "metadata": {},
   "outputs": [],
   "source": [
    "f = open(\"resume.txt\", \"a\")\n",
    "f.write(answer)\n",
    "f.close()"
   ]
  },
  {
   "cell_type": "code",
   "execution_count": 19,
   "metadata": {},
   "outputs": [
    {
     "output_type": "stream",
     "name": "stdout",
     "text": [
      "[1, 2, 3, 4, 5]\n[1, 2, 3, 5]\n"
     ]
    }
   ],
   "source": [
    "class Node:\n",
    "  def __init__(self, val, next=None):\n",
    "    self.val = val\n",
    "    self.next = next\n",
    "  def __str__(self):\n",
    "    current_node = self\n",
    "    result = []\n",
    "    while current_node:\n",
    "      result.append(current_node.val)\n",
    "      current_node = current_node.next\n",
    "    return str(result)\n",
    "\n",
    "def remove_kth_from_linked_list(head, k):\n",
    "    mynode=head\n",
    "    for i in range(k-1):\n",
    "        mynode=mynode.next\n",
    "    mynode.next=mynode.next.next \n",
    "\n",
    "head = Node(1, Node(2, Node(3, Node(4, Node(5)))))\n",
    "print(head)\n",
    "# [1, 2, 3, 4, 5]\n",
    "remove_kth_from_linked_list(head, 3)\n",
    "print(head)\n",
    "# [1, 2, 4, 5]\n"
   ]
  },
  {
   "cell_type": "code",
   "execution_count": null,
   "metadata": {},
   "outputs": [],
   "source": []
  }
 ]
}