{
 "metadata": {
  "language_info": {
   "codemirror_mode": {
    "name": "ipython",
    "version": 3
   },
   "file_extension": ".py",
   "mimetype": "text/x-python",
   "name": "python",
   "nbconvert_exporter": "python",
   "pygments_lexer": "ipython3",
   "version": "3.8.3-final"
  },
  "orig_nbformat": 2,
  "kernelspec": {
   "name": "python3",
   "display_name": "Python 3",
   "language": "python"
  }
 },
 "nbformat": 4,
 "nbformat_minor": 2,
 "cells": [
  {
   "cell_type": "code",
   "execution_count": 1,
   "metadata": {},
   "outputs": [],
   "source": [
    "grids={}\n",
    "def gridTraveller(m,n):\n",
    "    if m==0 or n==0:\n",
    "        return 0\n",
    "    if m==1 or n==1:\n",
    "        return 1\n",
    "    if (m,n) in grids:\n",
    "        return grids[(m,n)]\n",
    "    else:\n",
    "        paths = gridTraveller(m,n-1)+gridTraveller(m-1,n)\n",
    "        grids[(m,n)]=paths\n",
    "        grids[(n,m)]=paths\n",
    "        return paths\n"
   ]
  },
  {
   "cell_type": "code",
   "execution_count": 2,
   "metadata": {},
   "outputs": [],
   "source": [
    "def slowGridTraveller(m,n):\n",
    "    if m==0 or n==0:\n",
    "        return 0\n",
    "    if m==1 or n==1:\n",
    "        return 1\n",
    "    return slowGridTraveller(m,n-1)+slowGridTraveller(m-1,n)"
   ]
  },
  {
   "cell_type": "code",
   "execution_count": 7,
   "metadata": {},
   "outputs": [
    {
     "output_type": "stream",
     "name": "stdout",
     "text": [
      "40116600\n15.205552577972412\n"
     ]
    }
   ],
   "source": [
    "import time\n",
    "start=time.time()\n",
    "print(slowGridTraveller(15,15))\n",
    "print(time.time()-start)"
   ]
  },
  {
   "cell_type": "code",
   "execution_count": 10,
   "metadata": {},
   "outputs": [
    {
     "output_type": "stream",
     "name": "stdout",
     "text": [
      "512294053774259558362972111801106814506359401696197357133662490663268680890966422168317407249277190145438911035517264555381561230116189292650837306095363076178842645481320822198226994485371813976409676367032381831285411152247284028125396742405627998638503788368259307920236258027800099771751391617605088924033394630230806037178021722568614945945597158227817488131642780881551702876651234929533423690387735417418121162690198676382656195692212519230804188796272372873746380773141117366928488415626459630446598074332450038402866155063023175006229242447751399777865500335793470023989772130248615305440000\n0.693089485168457\n"
     ]
    }
   ],
   "source": [
    "grids={}\n",
    "start=time.time()\n",
    "print(gridTraveller(1000,1000))\n",
    "print(time.time()-start)"
   ]
  },
  {
   "cell_type": "code",
   "execution_count": 18,
   "metadata": {},
   "outputs": [],
   "source": [
    "def fact(n):\n",
    "    if n==1 or n==2:\n",
    "        return n\n",
    "    ans=1\n",
    "    for i in range(2,n+1):\n",
    "        ans*=i\n",
    "    return ans\n",
    "\n",
    "def fastGridTraveller(m,n):\n",
    "    sum=m+n\n",
    "    return fact(sum-2)//(fact(m-1)*fact(n-1))"
   ]
  },
  {
   "cell_type": "code",
   "execution_count": 19,
   "metadata": {},
   "outputs": [
    {
     "output_type": "stream",
     "name": "stdout",
     "text": [
      "512294053774259558362972111801106814506359401696197357133662490663268680890966422168317407249277190145438911035517264555381561230116189292650837306095363076178842645481320822198226994485371813976409676367032381831285411152247284028125396742405627998638503788368259307920236258027800099771751391617605088924033394630230806037178021722568614945945597158227817488131642780881551702876651234929533423690387735417418121162690198676382656195692212519230804188796272372873746380773141117366928488415626459630446598074332450038402866155063023175006229242447751399777865500335793470023989772130248615305440000\n0.0029921531677246094\n"
     ]
    }
   ],
   "source": [
    "grids={}\n",
    "start=time.time()\n",
    "print(fastGridTraveller(1000,1000))\n",
    "print(time.time()-start)"
   ]
  },
  {
   "cell_type": "code",
   "execution_count": null,
   "metadata": {},
   "outputs": [],
   "source": []
  }
 ]
}