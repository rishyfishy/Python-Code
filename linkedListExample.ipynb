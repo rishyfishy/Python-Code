{
 "metadata": {
  "language_info": {
   "codemirror_mode": {
    "name": "ipython",
    "version": 3
   },
   "file_extension": ".py",
   "mimetype": "text/x-python",
   "name": "python",
   "nbconvert_exporter": "python",
   "pygments_lexer": "ipython3",
   "version": 3
  },
  "orig_nbformat": 2
 },
 "nbformat": 4,
 "nbformat_minor": 2,
 "cells": [
  {
   "cell_type": "code",
   "execution_count": null,
   "metadata": {},
   "outputs": [],
   "source": [
    "# Definition for singly-linked list.\n",
    "class ListNode(object):\n",
    "  def __init__(self, x):\n",
    "    self.val = x\n",
    "    self.next = None\n",
    "\n",
    "class Solution:\n",
    "  def addTwoNumbers(self, l1, l2, c = 0):\n",
    "    # Fill this in.\n",
    "    sum = 0\n",
    "    x=1\n",
    "    l = l1\n",
    "    while (l!=None):\n",
    "        sum+=x*l.val\n",
    "        x*=10\n",
    "        l=l.next\n",
    "    l = l2\n",
    "    while (l!=None):\n",
    "        sum+=x*l.val\n",
    "        x*=10\n",
    "        l=l.next \n",
    "\n",
    "\n",
    "l1 = ListNode(2)\n",
    "l1.next = ListNode(4)\n",
    "l1.next.next = ListNode(3)\n",
    "\n",
    "l2 = ListNode(5)\n",
    "l2.next = ListNode(6)\n",
    "l2.next.next = ListNode(4)\n",
    "\n",
    "result = Solution().addTwoNumbers(l1, l2)\n",
    "while result:\n",
    "  print result.val,\n",
    "  result = \n"
   ]
  }
 ]
}