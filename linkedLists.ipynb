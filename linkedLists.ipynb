{
 "metadata": {
  "language_info": {
   "codemirror_mode": {
    "name": "ipython",
    "version": 3
   },
   "file_extension": ".py",
   "mimetype": "text/x-python",
   "name": "python",
   "nbconvert_exporter": "python",
   "pygments_lexer": "ipython3",
   "version": "3.8.3-final"
  },
  "orig_nbformat": 2,
  "kernelspec": {
   "name": "python3",
   "display_name": "Python 3",
   "language": "python"
  }
 },
 "nbformat": 4,
 "nbformat_minor": 2,
 "cells": [
  {
   "cell_type": "code",
   "execution_count": 3,
   "metadata": {},
   "outputs": [],
   "source": [
    "class Node:\n",
    "    def __init__(self,data=None):\n",
    "        self.data = data\n",
    "        self.next = None\n",
    "\n",
    "    \n",
    "class LinkedList:\n",
    "    def __init__(self):\n",
    "        self.head = Node()\n",
    "\n",
    "    def append(self,data):\n",
    "        \n",
    "        cur = self.head\n",
    "        while (cur.next!=None):\n",
    "            cur=cur.next\n",
    "        cur.next = Node(data)\n",
    "    \n",
    "    def length(self):\n",
    "        total = 0\n",
    "        cur = self.head\n",
    "        while (cur.next !=None):\n",
    "            total+=1\n",
    "            cur=cur.next\n",
    "\n",
    "        return total\n",
    "    \n",
    "    def display(self):\n",
    "        elems = []\n",
    "        cur=self.head\n",
    "        while(cur.next!=None):\n",
    "            cur=cur.next\n",
    "            elems.append(cur.data)\n",
    "            \n",
    "        print (elems)\n",
    "    \n",
    "    def get(self, index):\n",
    "\n",
    "        if (index>=self.length() or index<0):\n",
    "            print (\"ERROR, 'get' index out of range\")\n",
    "            return None\n",
    "        curIndex = 0\n",
    "        cur = self.head.next\n",
    "        while (curIndex != index):\n",
    "            curIndex+=1\n",
    "            cur=cur.next\n",
    "        return cur.data\n",
    "\n",
    "    def erase(self, index):\n",
    "\n",
    "        if (index>=self.length() or index<0):\n",
    "            print (\"ERROR, 'erase' index out of range\")\n",
    "            return None\n",
    "        last = self.head\n",
    "        cur = last.next\n",
    "        nextIndex = 0\n",
    "        while (nextIndex != index):\n",
    "            last = cur\n",
    "            cur=cur.next\n",
    "            nextIndex+=1\n",
    "        last.next = cur.next\n",
    "\n",
    "    def eraseInstance(self, data):\n",
    "        last = self.head\n",
    "        cur = last.next\n",
    "        nextIndex = 0\n",
    "        while (cur.data != data):\n",
    "            last = cur\n",
    "            cur=cur.next\n",
    "            nextIndex += 1\n",
    "        last.next = cur.next\n",
    "\n",
    "           \n"
   ]
  },
  {
   "cell_type": "code",
   "execution_count": 4,
   "metadata": {},
   "outputs": [],
   "source": [
    "mylist=LinkedList()"
   ]
  },
  {
   "cell_type": "code",
   "execution_count": 5,
   "metadata": {},
   "outputs": [],
   "source": [
    "mylist.append(0)\n",
    "mylist.append(1)\n",
    "mylist.append(2)\n",
    "mylist.append(3)\n",
    "mylist.append(4)\n",
    "mylist.append(5)\n",
    "mylist.append(6)"
   ]
  },
  {
   "cell_type": "code",
   "execution_count": 55,
   "metadata": {},
   "outputs": [
    {
     "output_type": "stream",
     "name": "stdout",
     "text": [
      "[0, 1, 2, 3, 4, 5, 6]\n"
     ]
    }
   ],
   "source": [
    "mylist.display()"
   ]
  },
  {
   "cell_type": "code",
   "execution_count": 6,
   "metadata": {},
   "outputs": [],
   "source": [
    "mylist.erase(1)\n"
   ]
  },
  {
   "cell_type": "code",
   "execution_count": 7,
   "metadata": {},
   "outputs": [
    {
     "output_type": "stream",
     "name": "stdout",
     "text": [
      "[0, 2, 3, 4, 5, 6]\n"
     ]
    }
   ],
   "source": [
    "mylist.display()"
   ]
  },
  {
   "cell_type": "code",
   "execution_count": 8,
   "metadata": {},
   "outputs": [],
   "source": [
    "hello = Node(1)\n"
   ]
  },
  {
   "cell_type": "code",
   "execution_count": null,
   "metadata": {},
   "outputs": [],
   "source": []
  }
 ]
}