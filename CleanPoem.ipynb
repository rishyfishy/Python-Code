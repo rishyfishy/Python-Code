{
 "cells": [
  {
   "cell_type": "code",
   "execution_count": 19,
   "metadata": {},
   "outputs": [
    {
     "output_type": "stream",
     "name": "stdout",
     "text": "[['Three', 'Roads', 'Diverged', 'In', 'A', 'Yellow', 'Wood'], ['And', 'Sorry', 'I', 'Could', 'Not', 'Travel', 'Both'], ['And', 'Be', 'One', 'Traveler', 'Long', 'I', 'Stood'], ['And', 'Looked', 'Down', 'One', 'As', 'Far', 'As', 'I', 'Could'], ['To', 'Where', 'It', 'Bent', 'In', 'The', 'Undergrowth'], ['Then', 'Took', 'The', 'Other', 'As', 'Just', 'As', 'Fair'], ['And', 'Having', 'Perhaps', 'The', 'Better', 'Claim'], ['Because', 'It', 'Was', 'Grassy', 'And', 'Wanted', 'Wear'], ['Though', 'As', 'For', 'That', 'The', 'Passing', 'There'], ['Had', 'Worn', 'Them', 'Really', 'About', 'The', 'Same'], ['And', 'Both', 'That', 'Morning', 'Equally', 'Lay'], ['In', 'Leaves', 'No', 'Step', 'Had', 'Trodden', 'Black'], ['Oh', 'I', 'Kept', 'The', 'First', 'For', 'Another', 'Day'], ['Yet', 'Knowing', 'How', 'Way', 'Leads', 'On', 'To', 'Way'], ['I', 'Doubted', 'If', 'I', 'Should', 'Ever', 'Come', 'Back'], ['I', 'Shall', 'Be', 'Telling', 'This', 'With', 'A', 'Sigh'], ['Somewhere', 'Ages', 'And', 'Ages', 'Hence:'], ['Two', 'Roads', 'Diverged', 'In', 'A', 'Wood', 'And', 'I'], ['I', 'Took', 'The', 'One', 'Less', 'Traveled', 'By'], ['And', 'That', 'Has', 'Made', 'All', 'The', 'Difference']]\n"
    }
   ],
   "source": [
    "\n",
    "\n",
    "\n",
    "def linesToWords(listOfLines):\n",
    "    poemWordList=[]\n",
    "\n",
    "    for line in listOfLines:\n",
    "        listOfWords = line.split()\n",
    "        poemWordList.append(listOfWords)\n",
    "        \n",
    "    return poemWordList\n",
    "\n",
    "\n",
    "def cleanWord(string):\n",
    "    cleaner = string.replace(\",\" , \"\")\n",
    "    cleaner = cleaner.replace(\".\" , \"\")\n",
    "    cleaner = cleaner.replace(\";\" , \"\")\n",
    "    cleaner = cleaner.replace(\"!\" , \"\")\n",
    "    cleaner = cleaner.replace(\"-\" , \"\")\n",
    "\n",
    "    cleanest = cleaner.replace(\"—\" , \"\")\n",
    "\n",
    "    return cleanest\n",
    "\n",
    "\n",
    "def cleanPoem(poemList):\n",
    "    \n",
    "    for i in range(len(poemList)):\n",
    "        for j in range(len(poemList[i])):\n",
    "            poemList[i][j] = cleanWord(poemList[i][j])\n",
    "            \n",
    "    return poemList\n",
    "\n",
    "\n",
    "def capitalizePoem(poemList):\n",
    "    \n",
    "    for i in range(len(poemList)):\n",
    "        for j in range(len(poemList[i])):\n",
    "            poemList[i][j] = poemList[i][j].capitalize()\n",
    "            \n",
    "\n",
    "    return poemList\n",
    "\n",
    "def removeEmptyString(lineList):\n",
    "\n",
    "    for stringList in lineList:\n",
    "        i=0\n",
    "        while i < len(stringList):\n",
    "            if stringList[i]=='':\n",
    "                stringList.pop(i)\n",
    "                i-=1\n",
    "            i+=1\n",
    "\n",
    "    return lineList\n",
    "\n",
    "def removeEmptyList(lineList):\n",
    "    i=0\n",
    "    while i < len(lineList):\n",
    "        if len(lineList[i])==0:\n",
    "            lineList.pop(i)\n",
    "            i-=1\n",
    "        i+=1\n",
    "    \n",
    "    return lineList\n",
    "\n",
    "def main(string):\n",
    "    lines = string.splitlines()\n",
    "    words = linesToWords(lines)\n",
    "    cleaned = cleanPoem(words)\n",
    "    capitalized = capitalizePoem(cleaned)\n",
    "    trimmed = removeEmptyString(capitalized)\n",
    "    trimmed2 = removeEmptyList(trimmed)\n",
    "    \n",
    "    \n",
    "    return capitalized\n",
    "    \n",
    "newString = '''Three  - roads diverged in a yellow wood,\n",
    "And sorry I could not travel both\n",
    "And be one traveler, long I stood\n",
    "And looked down one as far as I could\n",
    "To where it bent in the undergrowth;\n",
    "\n",
    "Then took the other, as just as fair,\n",
    "And having perhaps the better claim,\n",
    "Because it was grassy and wanted wear;\n",
    "Though as for that the passing there\n",
    "Had worn them really about the same,\n",
    "\n",
    "And both that morning equally lay\n",
    "In leaves no step had trodden black.\n",
    "Oh, I kept the first for another day!\n",
    "Yet knowing how way leads on to way,\n",
    "I doubted if I should ever come back.\n",
    "\n",
    "I shall be telling this with a sigh\n",
    "Somewhere ages and ages hence:\n",
    "Two roads diverged in a wood, and I—\n",
    "I took the one less traveled by,\n",
    "And that has made all the difference.'''\n",
    "\n",
    "\n",
    "print(main(newString))\n",
    "\n",
    "\n",
    "\n"
   ]
  },
  {
   "cell_type": "code",
   "execution_count": 6,
   "metadata": {},
   "outputs": [
    {
     "output_type": "stream",
     "name": "stdout",
     "text": "Yolo \n"
    }
   ],
   "source": [
    "yolo = 'Yolo '\n",
    "print(yolo.capitalize())"
   ]
  },
  {
   "cell_type": "code",
   "execution_count": 13,
   "metadata": {},
   "outputs": [
    {
     "output_type": "stream",
     "name": "stdout",
     "text": "['there', 'was', 'a', 'cat.']\n"
    }
   ],
   "source": [
    "sentence = [\"there\", \"was\", \"a\", \"\", \"cat.\"]\n",
    "\n",
    "i=0\n",
    "while i<len(sentence):\n",
    "    if sentence[i]==\"\":\n",
    "        sentence.pop(i)\n",
    "        i-=1\n",
    "    i+=1\n",
    "\n",
    "print(sentence)\n"
   ]
  },
  {
   "cell_type": "code",
   "execution_count": null,
   "metadata": {},
   "outputs": [],
   "source": []
  }
 ],
 "metadata": {
  "kernelspec": {
   "display_name": "Python 3",
   "language": "python",
   "name": "python3"
  },
  "language_info": {
   "codemirror_mode": {
    "name": "ipython",
    "version": 3
   },
   "file_extension": ".py",
   "mimetype": "text/x-python",
   "name": "python",
   "nbconvert_exporter": "python",
   "pygments_lexer": "ipython3",
   "version": "3.7.6-final"
  }
 },
 "nbformat": 4,
 "nbformat_minor": 2
}