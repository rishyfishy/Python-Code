{
 "metadata": {
  "language_info": {
   "codemirror_mode": {
    "name": "ipython",
    "version": 3
   },
   "file_extension": ".py",
   "mimetype": "text/x-python",
   "name": "python",
   "nbconvert_exporter": "python",
   "pygments_lexer": "ipython3",
   "version": "3.8.3-final"
  },
  "orig_nbformat": 2,
  "kernelspec": {
   "name": "python3",
   "display_name": "Python 3",
   "language": "python"
  }
 },
 "nbformat": 4,
 "nbformat_minor": 2,
 "cells": [
  {
   "cell_type": "code",
   "execution_count": 2,
   "metadata": {},
   "outputs": [],
   "source": [
    "import ics\n",
    "import datetime\n",
    "\n",
    "icsLocation = open('coursesCalendar.ics','r').read()\n",
    "myCal = ics.Calendar(icsLocation)\n",
    "calList = list(myCal.events)        #Now all calendar events are in a list"
   ]
  },
  {
   "cell_type": "code",
   "execution_count": 12,
   "metadata": {},
   "outputs": [],
   "source": [
    "def changeNames(calList):\n",
    "    names = [x.name.split() for x in calList]\n",
    "    for i in range(len(names)):\n",
    "        name=''\n",
    "        temp = names[i] \n",
    "        for char in temp[0]:\n",
    "            if (name and not(ord(char)>47 and  ord(char)<58)):\n",
    "                break\n",
    "            if (ord(char)>47 and ord(char)<58):\n",
    "                name =name+char\n",
    "        name+=' '+temp[1]\n",
    "        names[i]=name\n",
    "    for i in range(len(names)):\n",
    "        calList[i].name = names[i]\n",
    "    return calList\n",
    "\n",
    "def printNames(calList:list)->None:\n",
    "    for event in calList:\n",
    "        print(event.name)\n",
    "\n",
    "def printAlarms(calList:list)->None:\n",
    "    for event in calList:\n",
    "        print(event.alarms)\n",
    "        \n",
    "def makeAlarm(minutes:int)->ics.alarm.AudioAlarm:\n",
    "    return ics.alarm.AudioAlarm(datetime.timedelta(minutes=minutes))\n",
    "\n",
    "def makeListofAlarms(minutesList:list)->list:\n",
    "    newAlarms = []\n",
    "    alarmMaker = ics.alarm.AudioAlarm(datetime.timedelta())\n",
    "    for offset in minutesList:\n",
    "        newAlarms.append(makeAlarm(-offset))\n",
    "    return newAlarms\n",
    "\n",
    "def changeAlarms(calList:list,minutesList:list) -> list:\n",
    "    for event in calList:\n",
    "        event.alarms = makeListofAlarms(minutesList)\n",
    "    return calList\n",
    "\n",
    "\n"
   ]
  },
  {
   "cell_type": "code",
   "execution_count": 13,
   "metadata": {},
   "outputs": [],
   "source": [
    "minutesList = [5]\n",
    "removedMIE = changeNames(calList)\n",
    "changedAlarms = changeAlarms(removedMIE,minutesList)\n"
   ]
  },
  {
   "cell_type": "code",
   "execution_count": 20,
   "metadata": {},
   "outputs": [],
   "source": [
    "myCal.events = set(changedAlarms)"
   ]
  },
  {
   "cell_type": "code",
   "execution_count": 25,
   "metadata": {},
   "outputs": [],
   "source": [
    "\n",
    "with open('newCoursesCalendar.ics', 'w') as f:\n",
    "    f.write(str(myCal))"
   ]
  },
  {
   "cell_type": "code",
   "execution_count": null,
   "metadata": {},
   "outputs": [],
   "source": []
  }
 ]
}