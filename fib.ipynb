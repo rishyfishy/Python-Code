{
 "cells": [
  {
   "cell_type": "code",
   "execution_count": null,
   "metadata": {},
   "outputs": [],
   "source": [
    "def fibme(n):\n",
    "    if n<3:\n",
    "        return 1\n",
    "    first = 1\n",
    "    second = 1 \n",
    "    third = 0\n",
    "    for i in range(3,n+1):\n",
    "        third = first + second\n",
    "        first = second\n",
    "        second = third\n",
    "    return third\n"
   ]
  },
  {
   "cell_type": "code",
   "execution_count": 6,
   "metadata": {},
   "outputs": [],
   "source": [
    "def fastFib(n):\n",
    "    if n<3:\n",
    "        return 1\n",
    "    myList = [1,1,0]\n",
    "    for i in range(2,n):\n",
    "        myList[i%3]=myList[(i+1)%3] + myList[(i+2)%3]\n",
    "        print(str(i)+ \" - \" + str(myList))\n",
    "    return myList[(n-1)%3]"
   ]
  },
  {
   "cell_type": "code",
   "execution_count": 7,
   "metadata": {},
   "outputs": [
    {
     "name": "stdout",
     "output_type": "stream",
     "text": [
      "2 - [1, 1, 1]\n",
      "3 - [1, 1, 1]\n",
      "4 - [1, 1, 1]\n",
      "1\n"
     ]
    }
   ],
   "source": [
    "a=fastFib(5)\n",
    "print(a)"
   ]
  },
  {
   "cell_type": "code",
   "execution_count": null,
   "metadata": {},
   "outputs": [],
   "source": [
    "for i in range(1,20):\n",
    "    print(str(i)+'\\t' +str(fastFib(i)))\n"
   ]
  },
  {
   "cell_type": "code",
   "execution_count": null,
   "metadata": {
    "tags": [
     "outputPrepend"
    ]
   },
   "outputs": [],
   "source": [
    "import time\n",
    "start = time.time()\n",
    "print(fibme(1000000))\n",
    "seconds = time.time()-start\n",
    "print (seconds)"
   ]
  },
  {
   "cell_type": "code",
   "execution_count": null,
   "metadata": {},
   "outputs": [],
   "source": [
    "import time\n",
    "start = time.time()\n",
    "print(fastFib(1000000))\n",
    "seconds = time.time()-start\n",
    "print (seconds)"
   ]
  },
  {
   "cell_type": "code",
   "execution_count": null,
   "metadata": {},
   "outputs": [],
   "source": [
    "\n",
    "fibs={}\n",
    "def fibMemo(n):\n",
    "    if n<3:\n",
    "        return 1\n",
    "    \n",
    "    if n in fibs:\n",
    "        return fibs[n]\n",
    "    else:\n",
    "        print (n)\n",
    "        num =  fibMemo(n-1)+fibMemo(n-2)\n",
    "        fibs[n] = num\n",
    "        return num\n",
    "\n",
    "import time\n",
    "start = time.time()\n",
    "print(fibMemo(100))\n",
    "seconds = time.time()-start\n",
    "print (seconds)"
   ]
  },
  {
   "cell_type": "code",
   "execution_count": null,
   "metadata": {},
   "outputs": [],
   "source": [
    "for i in range(1,21):\n",
    "    print(str(i)+'\\t' +str(fibme(i+1)))"
   ]
  },
  {
   "cell_type": "code",
   "execution_count": null,
   "metadata": {},
   "outputs": [],
   "source": [
    "def fib(i):\n",
    "    if i<2:\n",
    "        return 1\n",
    "    else:\n",
    "        return fib(i-1)+fib(i-2)"
   ]
  }
 ],
 "metadata": {
  "kernelspec": {
   "display_name": "Python 3",
   "language": "python",
   "name": "python3"
  },
  "language_info": {
   "codemirror_mode": {
    "name": "ipython",
    "version": 3
   },
   "file_extension": ".py",
   "mimetype": "text/x-python",
   "name": "python",
   "nbconvert_exporter": "python",
   "pygments_lexer": "ipython3",
   "version": "3.8.3"
  },
  "orig_nbformat": 2,
  "vscode": {
   "interpreter": {
    "hash": "8b9b60b7fafe89863d44430bd4905ae8cf6c852c3062ed0404b5c5e3b619e80a"
   }
  }
 },
 "nbformat": 4,
 "nbformat_minor": 2
}
