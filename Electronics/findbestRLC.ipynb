{
 "metadata": {
  "language_info": {
   "codemirror_mode": {
    "name": "ipython",
    "version": 3
   },
   "file_extension": ".py",
   "mimetype": "text/x-python",
   "name": "python",
   "nbconvert_exporter": "python",
   "pygments_lexer": "ipython3",
   "version": "3.8.3-final"
  },
  "orig_nbformat": 2,
  "kernelspec": {
   "name": "python3",
   "display_name": "Python 3",
   "language": "python"
  }
 },
 "nbformat": 4,
 "nbformat_minor": 2,
 "cells": [
  {
   "cell_type": "code",
   "execution_count": 5,
   "metadata": {},
   "outputs": [],
   "source": [
    "def omega_c(r,c):\n",
    "    return 1/(r*c)\n",
    "res=[100,220,470,680,1000,2000,3900,8200,15000,18000,36000,39000,47000,82000,100000]\n",
    "cap=[100e-9,220e-9,680e-9,820e-9,1e-6,2.2e-6,4.7e-6,10e-6]\n",
    "\n",
    "def findBestRC(resistors:list, caps:list, func, target:float):\n",
    "    best=[resistors[0],caps[0]]\n",
    "    #ToDo:better error function\n",
    "    error=abs(func(best[0],best[1])-target)\n",
    "    #Todo:Tighter code for sorted lists\n",
    "    for r in resistors:\n",
    "        for c in caps:\n",
    "            newError=abs(func(r,c)-target)\n",
    "            if (newError<error):\n",
    "                best=[r,c]\n",
    "                error=newError\n",
    "\n",
    "    print (\"error is \"+str(error))\n",
    "    return best[0],best[1]\n",
    "\n"
   ]
  },
  {
   "cell_type": "code",
   "execution_count": 8,
   "metadata": {},
   "outputs": [
    {
     "output_type": "stream",
     "name": "stdout",
     "text": [
      "error is0.026262626262624877\n"
     ]
    }
   ],
   "source": [
    "bestr,bestc=findBestRC(res,cap,omega_c,12.6)"
   ]
  },
  {
   "cell_type": "code",
   "execution_count": 13,
   "metadata": {},
   "outputs": [],
   "source": [
    "def RR(r1,r2):\n",
    "    return r1*r2\n",
    "\n",
    "def findBestRR(resistors:list, func, target:float):\n",
    "    best=[resistors[0],resistors[0]]\n",
    "    #ToDo:better error function\n",
    "    error=abs(func(best[0],best[1])-target)\n",
    "    #Todo:Tighter code for sorted lists\n",
    "    for i in range(len(resistors)-1):\n",
    "        for j in range(i,len(resistors)): #duplicates allowed\n",
    "            newError=abs(func(resistors[i],resistors[j])-target)\n",
    "            if (newError<error):\n",
    "                best=[resistors[i],resistors[j]]\n",
    "                error=newError\n",
    "\n",
    "    print (\"error is \"+str(error))\n",
    "    return best[0],best[1]"
   ]
  },
  {
   "cell_type": "code",
   "execution_count": 14,
   "metadata": {},
   "outputs": [
    {
     "output_type": "stream",
     "name": "stdout",
     "text": [
      "error is 2917041.5315409303\n18000 18000\n"
     ]
    }
   ],
   "source": [
    "targit=1/(632*bestc*bestc)\n",
    "newr1,newr3=findBestRR(res,RR,targit)\n",
    "print(newr1,newr3)"
   ]
  },
  {
   "cell_type": "code",
   "execution_count": null,
   "metadata": {},
   "outputs": [],
   "source": []
  }
 ]
}