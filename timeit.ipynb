{
 "cells": [
  {
   "cell_type": "code",
   "execution_count": 1,
   "metadata": {},
   "outputs": [
    {
     "name": "stdout",
     "output_type": "stream",
     "text": [
      "5.581197400000001\n"
     ]
    }
   ],
   "source": [
    "import timeit\n",
    "\n",
    "def f1(): x=\"hello\"\n",
    "\n",
    "def f2(): x=4%3\n",
    "\n",
    "print(timeit.timeit(f1,number=10000000))\n",
    "print(timeit.timeit(f2,number=10000000))"
   ]
  },
  {
   "cell_type": "code",
   "execution_count": null,
   "metadata": {},
   "outputs": [],
   "source": []
  }
 ],
 "metadata": {
  "kernelspec": {
   "display_name": "Python 3.8.3 64-bit (conda)",
   "name": "python37664bitbasebef9f59e6b9e47a697000bb7078f1187"
  },
  "language_info": {
   "codemirror_mode": {
    "name": "ipython",
    "version": 3
   },
   "file_extension": ".py",
   "mimetype": "text/x-python",
   "name": "python",
   "nbconvert_exporter": "python",
   "pygments_lexer": "ipython3",
   "version": "3.8.3"
  },
  "metadata": {
   "interpreter": {
    "hash": "468197163b612e9e879546de9cc6ba309e8b4a3c72346a5e65cf217cffa21b8f"
   }
  },
  "orig_nbformat": 2
 },
 "nbformat": 4,
 "nbformat_minor": 2
}
