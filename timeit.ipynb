{
 "metadata": {
  "language_info": {
   "codemirror_mode": {
    "name": "ipython",
    "version": 3
   },
   "file_extension": ".py",
   "mimetype": "text/x-python",
   "name": "python",
   "nbconvert_exporter": "python",
   "pygments_lexer": "ipython3",
   "version": "3.8.3"
  },
  "orig_nbformat": 2,
  "kernelspec": {
   "name": "python37664bitbasebef9f59e6b9e47a697000bb7078f1187",
   "display_name": "Python 3.8.3 64-bit (conda)"
  },
  "metadata": {
   "interpreter": {
    "hash": "468197163b612e9e879546de9cc6ba309e8b4a3c72346a5e65cf217cffa21b8f"
   }
  }
 },
 "nbformat": 4,
 "nbformat_minor": 2,
 "cells": [
  {
   "cell_type": "code",
   "execution_count": 1,
   "metadata": {},
   "outputs": [
    {
     "output_type": "stream",
     "name": "stdout",
     "text": [
      "5.581197400000001\n"
     ]
    }
   ],
   "source": [
    "import timeit\n",
    "\n",
    "def f1(): \n",
    "    i=1\n",
    "    while i<100000000:\n",
    "        i+=1\n",
    "\n",
    "print(timeit.timeit(f1,number=1))"
   ]
  },
  {
   "cell_type": "code",
   "execution_count": null,
   "metadata": {},
   "outputs": [],
   "source": []
  }
 ]
}